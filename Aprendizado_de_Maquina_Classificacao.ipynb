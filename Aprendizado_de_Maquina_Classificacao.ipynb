{
 "cells": [
  {
   "cell_type": "code",
   "execution_count": 148,
   "id": "5250383d",
   "metadata": {},
   "outputs": [],
   "source": [
    "import pandas as pd"
   ]
  },
  {
   "cell_type": "code",
   "execution_count": 149,
   "id": "f84b579c",
   "metadata": {},
   "outputs": [],
   "source": [
    "base = pd.read_csv('titanic_train.csv')"
   ]
  },
  {
   "cell_type": "code",
   "execution_count": 150,
   "id": "38884099",
   "metadata": {},
   "outputs": [
    {
     "name": "stdout",
     "output_type": "stream",
     "text": [
      "<class 'pandas.core.frame.DataFrame'>\n",
      "RangeIndex: 891 entries, 0 to 890\n",
      "Data columns (total 12 columns):\n",
      " #   Column       Non-Null Count  Dtype  \n",
      "---  ------       --------------  -----  \n",
      " 0   PassengerId  891 non-null    int64  \n",
      " 1   Survived     891 non-null    int64  \n",
      " 2   Pclass       891 non-null    int64  \n",
      " 3   Name         891 non-null    object \n",
      " 4   Sex          891 non-null    object \n",
      " 5   Age          714 non-null    float64\n",
      " 6   SibSp        891 non-null    int64  \n",
      " 7   Parch        891 non-null    int64  \n",
      " 8   Ticket       891 non-null    object \n",
      " 9   Fare         891 non-null    float64\n",
      " 10  Cabin        204 non-null    object \n",
      " 11  Embarked     889 non-null    object \n",
      "dtypes: float64(2), int64(5), object(5)\n",
      "memory usage: 83.7+ KB\n"
     ]
    }
   ],
   "source": [
    "base.info()"
   ]
  },
  {
   "cell_type": "code",
   "execution_count": 151,
   "id": "9ae8043c",
   "metadata": {},
   "outputs": [],
   "source": [
    "#Eliminando a coluna 'Cabin', pois ela apresenta muitos valores vazios\n",
    "base = base.drop('Cabin',axis=1) #axis representa o eixo, ou seja, axis=1 -> eliminar a coluna\n",
    "                                                        #   axis=0 -> eliminar uma linha"
   ]
  },
  {
   "cell_type": "code",
   "execution_count": 152,
   "id": "253c60b0",
   "metadata": {},
   "outputs": [],
   "source": [
    "# Eliminando valores vazios\n",
    "base = base.dropna()"
   ]
  },
  {
   "cell_type": "code",
   "execution_count": 153,
   "id": "003e8612",
   "metadata": {},
   "outputs": [
    {
     "name": "stdout",
     "output_type": "stream",
     "text": [
      "<class 'pandas.core.frame.DataFrame'>\n",
      "Index: 712 entries, 0 to 890\n",
      "Data columns (total 11 columns):\n",
      " #   Column       Non-Null Count  Dtype  \n",
      "---  ------       --------------  -----  \n",
      " 0   PassengerId  712 non-null    int64  \n",
      " 1   Survived     712 non-null    int64  \n",
      " 2   Pclass       712 non-null    int64  \n",
      " 3   Name         712 non-null    object \n",
      " 4   Sex          712 non-null    object \n",
      " 5   Age          712 non-null    float64\n",
      " 6   SibSp        712 non-null    int64  \n",
      " 7   Parch        712 non-null    int64  \n",
      " 8   Ticket       712 non-null    object \n",
      " 9   Fare         712 non-null    float64\n",
      " 10  Embarked     712 non-null    object \n",
      "dtypes: float64(2), int64(5), object(4)\n",
      "memory usage: 66.8+ KB\n"
     ]
    }
   ],
   "source": [
    "base.info()"
   ]
  },
  {
   "cell_type": "code",
   "execution_count": 154,
   "id": "1d9b3266",
   "metadata": {},
   "outputs": [
    {
     "name": "stdout",
     "output_type": "stream",
     "text": [
      "<class 'pandas.core.series.Series'>\n",
      "Index: 712 entries, 0 to 890\n",
      "Series name: Sex\n",
      "Non-Null Count  Dtype \n",
      "--------------  ----- \n",
      "712 non-null    object\n",
      "dtypes: object(1)\n",
      "memory usage: 11.1+ KB\n"
     ]
    }
   ],
   "source": [
    "base['Sex']= base['Sex'].str.lower()\n",
    "\n",
    "base['Sex'].info()"
   ]
  },
  {
   "cell_type": "code",
   "execution_count": 155,
   "id": "0a50662d",
   "metadata": {},
   "outputs": [],
   "source": [
    "#Antes, mudar 'male' e 'female' na coluna 'Sex' para '0' e '1' (faz sentido, pois percebemos na analise que essa coluna tinha bastante impacto em relação a sobrevivencia da pessoa)\n",
    "\n",
    "base['Sex'] = base['Sex'].map({'male': 0, 'female': 1})\n"
   ]
  },
  {
   "cell_type": "code",
   "execution_count": 156,
   "id": "3ffbd6c6",
   "metadata": {},
   "outputs": [],
   "source": [
    "# Faz sentido tbm tirar as colunas com valores que não são valores numericos\n",
    "# Nesse caso, os valores com dtype 'object'\n",
    "\n",
    "\n",
    "# Selecionando as colunas com o tipo 'object'\n",
    "colunas_eliminadas= base.dtypes[base.dtypes.values == 'object'].index"
   ]
  },
  {
   "cell_type": "code",
   "execution_count": 157,
   "id": "d1609d6f",
   "metadata": {},
   "outputs": [],
   "source": [
    "#Eliminando colunas\n",
    "base = base.drop(colunas_eliminadas, axis=1)"
   ]
  },
  {
   "cell_type": "code",
   "execution_count": 158,
   "id": "5de5c6ee",
   "metadata": {},
   "outputs": [
    {
     "name": "stdout",
     "output_type": "stream",
     "text": [
      "<class 'pandas.core.frame.DataFrame'>\n",
      "Index: 712 entries, 0 to 890\n",
      "Data columns (total 8 columns):\n",
      " #   Column       Non-Null Count  Dtype  \n",
      "---  ------       --------------  -----  \n",
      " 0   PassengerId  712 non-null    int64  \n",
      " 1   Survived     712 non-null    int64  \n",
      " 2   Pclass       712 non-null    int64  \n",
      " 3   Sex          712 non-null    int64  \n",
      " 4   Age          712 non-null    float64\n",
      " 5   SibSp        712 non-null    int64  \n",
      " 6   Parch        712 non-null    int64  \n",
      " 7   Fare         712 non-null    float64\n",
      "dtypes: float64(2), int64(6)\n",
      "memory usage: 50.1 KB\n"
     ]
    }
   ],
   "source": [
    "#Verificando\n",
    "base.info()"
   ]
  },
  {
   "cell_type": "markdown",
   "id": "a2082ca6",
   "metadata": {},
   "source": [
    "## Vamos utilizar a biblioteca \"Scikit-Learn\"\n",
    "\n",
    "***Apresenta ferramentas simples e eficientes para análise preditiva de dados***"
   ]
  },
  {
   "cell_type": "code",
   "execution_count": 159,
   "id": "3155d213",
   "metadata": {},
   "outputs": [],
   "source": [
    "#Definindo o X e Y para o treino\n",
    "\n",
    "# X serão as variáveis utilizadas para fazer a previsão\n",
    "X = base.drop('Survived', axis=1)\n",
    "\n",
    "#Y será a coluna \"Survived\", pois é o valor que queremos prever\n",
    "y = base.Survived"
   ]
  },
  {
   "cell_type": "markdown",
   "id": "9e4a84f6",
   "metadata": {},
   "source": [
    "## Utilizando KNN"
   ]
  },
  {
   "cell_type": "code",
   "execution_count": 160,
   "id": "81951a1c",
   "metadata": {},
   "outputs": [],
   "source": [
    "from sklearn.neighbors import KNeighborsClassifier"
   ]
  },
  {
   "cell_type": "code",
   "execution_count": 161,
   "id": "554e10f2",
   "metadata": {},
   "outputs": [],
   "source": [
    "#Criando o CLASSIFICADOR (que será o \"neigh\")\n",
    "neigh = KNeighborsClassifier(n_neighbors=3) \n",
    "\n",
    "#KNN tem um parâmetro, ele vai fazer --> pegar os valores mais próximos dele, e vai ser da mesma classe que a maioria dos valores\n",
    "                                        # ou seja, se ta num ponto que tem  0, 0 e 1 (3 valores) próximos ao ponto observado\n",
    "                                        # o KNN vai transformar o ponto observado em 0, pois a maioria dos valores próximos a ele\n",
    "                                        # são 0"
   ]
  },
  {
   "cell_type": "code",
   "execution_count": 162,
   "id": "1933d9f7",
   "metadata": {},
   "outputs": [
    {
     "data": {
      "text/html": [
       "<style>#sk-container-id-4 {color: black;}#sk-container-id-4 pre{padding: 0;}#sk-container-id-4 div.sk-toggleable {background-color: white;}#sk-container-id-4 label.sk-toggleable__label {cursor: pointer;display: block;width: 100%;margin-bottom: 0;padding: 0.3em;box-sizing: border-box;text-align: center;}#sk-container-id-4 label.sk-toggleable__label-arrow:before {content: \"▸\";float: left;margin-right: 0.25em;color: #696969;}#sk-container-id-4 label.sk-toggleable__label-arrow:hover:before {color: black;}#sk-container-id-4 div.sk-estimator:hover label.sk-toggleable__label-arrow:before {color: black;}#sk-container-id-4 div.sk-toggleable__content {max-height: 0;max-width: 0;overflow: hidden;text-align: left;background-color: #f0f8ff;}#sk-container-id-4 div.sk-toggleable__content pre {margin: 0.2em;color: black;border-radius: 0.25em;background-color: #f0f8ff;}#sk-container-id-4 input.sk-toggleable__control:checked~div.sk-toggleable__content {max-height: 200px;max-width: 100%;overflow: auto;}#sk-container-id-4 input.sk-toggleable__control:checked~label.sk-toggleable__label-arrow:before {content: \"▾\";}#sk-container-id-4 div.sk-estimator input.sk-toggleable__control:checked~label.sk-toggleable__label {background-color: #d4ebff;}#sk-container-id-4 div.sk-label input.sk-toggleable__control:checked~label.sk-toggleable__label {background-color: #d4ebff;}#sk-container-id-4 input.sk-hidden--visually {border: 0;clip: rect(1px 1px 1px 1px);clip: rect(1px, 1px, 1px, 1px);height: 1px;margin: -1px;overflow: hidden;padding: 0;position: absolute;width: 1px;}#sk-container-id-4 div.sk-estimator {font-family: monospace;background-color: #f0f8ff;border: 1px dotted black;border-radius: 0.25em;box-sizing: border-box;margin-bottom: 0.5em;}#sk-container-id-4 div.sk-estimator:hover {background-color: #d4ebff;}#sk-container-id-4 div.sk-parallel-item::after {content: \"\";width: 100%;border-bottom: 1px solid gray;flex-grow: 1;}#sk-container-id-4 div.sk-label:hover label.sk-toggleable__label {background-color: #d4ebff;}#sk-container-id-4 div.sk-serial::before {content: \"\";position: absolute;border-left: 1px solid gray;box-sizing: border-box;top: 0;bottom: 0;left: 50%;z-index: 0;}#sk-container-id-4 div.sk-serial {display: flex;flex-direction: column;align-items: center;background-color: white;padding-right: 0.2em;padding-left: 0.2em;position: relative;}#sk-container-id-4 div.sk-item {position: relative;z-index: 1;}#sk-container-id-4 div.sk-parallel {display: flex;align-items: stretch;justify-content: center;background-color: white;position: relative;}#sk-container-id-4 div.sk-item::before, #sk-container-id-4 div.sk-parallel-item::before {content: \"\";position: absolute;border-left: 1px solid gray;box-sizing: border-box;top: 0;bottom: 0;left: 50%;z-index: -1;}#sk-container-id-4 div.sk-parallel-item {display: flex;flex-direction: column;z-index: 1;position: relative;background-color: white;}#sk-container-id-4 div.sk-parallel-item:first-child::after {align-self: flex-end;width: 50%;}#sk-container-id-4 div.sk-parallel-item:last-child::after {align-self: flex-start;width: 50%;}#sk-container-id-4 div.sk-parallel-item:only-child::after {width: 0;}#sk-container-id-4 div.sk-dashed-wrapped {border: 1px dashed gray;margin: 0 0.4em 0.5em 0.4em;box-sizing: border-box;padding-bottom: 0.4em;background-color: white;}#sk-container-id-4 div.sk-label label {font-family: monospace;font-weight: bold;display: inline-block;line-height: 1.2em;}#sk-container-id-4 div.sk-label-container {text-align: center;}#sk-container-id-4 div.sk-container {/* jupyter's `normalize.less` sets `[hidden] { display: none; }` but bootstrap.min.css set `[hidden] { display: none !important; }` so we also need the `!important` here to be able to override the default hidden behavior on the sphinx rendered scikit-learn.org. See: https://github.com/scikit-learn/scikit-learn/issues/21755 */display: inline-block !important;position: relative;}#sk-container-id-4 div.sk-text-repr-fallback {display: none;}</style><div id=\"sk-container-id-4\" class=\"sk-top-container\"><div class=\"sk-text-repr-fallback\"><pre>KNeighborsClassifier(n_neighbors=3)</pre><b>In a Jupyter environment, please rerun this cell to show the HTML representation or trust the notebook. <br />On GitHub, the HTML representation is unable to render, please try loading this page with nbviewer.org.</b></div><div class=\"sk-container\" hidden><div class=\"sk-item\"><div class=\"sk-estimator sk-toggleable\"><input class=\"sk-toggleable__control sk-hidden--visually\" id=\"sk-estimator-id-4\" type=\"checkbox\" checked><label for=\"sk-estimator-id-4\" class=\"sk-toggleable__label sk-toggleable__label-arrow\">KNeighborsClassifier</label><div class=\"sk-toggleable__content\"><pre>KNeighborsClassifier(n_neighbors=3)</pre></div></div></div></div></div>"
      ],
      "text/plain": [
       "KNeighborsClassifier(n_neighbors=3)"
      ]
     },
     "execution_count": 162,
     "metadata": {},
     "output_type": "execute_result"
    }
   ],
   "source": [
    "#Fit do modelo\n",
    "neigh.fit(X, y)"
   ]
  },
  {
   "cell_type": "code",
   "execution_count": 163,
   "id": "54ab7d9c",
   "metadata": {},
   "outputs": [
    {
     "data": {
      "text/plain": [
       "0.7921348314606742"
      ]
     },
     "execution_count": 163,
     "metadata": {},
     "output_type": "execute_result"
    }
   ],
   "source": [
    "#Avaliando o modelo\n",
    "neigh.score(X, y)"
   ]
  },
  {
   "cell_type": "markdown",
   "id": "270d8712",
   "metadata": {},
   "source": [
    "## Utilizando árvore de decisão"
   ]
  },
  {
   "cell_type": "code",
   "execution_count": 164,
   "id": "27c61adc",
   "metadata": {},
   "outputs": [],
   "source": [
    "from sklearn import tree"
   ]
  },
  {
   "cell_type": "code",
   "execution_count": 165,
   "id": "d5ca6ade",
   "metadata": {},
   "outputs": [],
   "source": [
    "#Criando classificador\n",
    "clfTree = tree.DecisionTreeClassifier()"
   ]
  },
  {
   "cell_type": "code",
   "execution_count": 166,
   "id": "5c2daa9e",
   "metadata": {},
   "outputs": [],
   "source": [
    "#Fit do modelo\n",
    "clfTree = clfTree.fit(X, y)"
   ]
  },
  {
   "cell_type": "code",
   "execution_count": 167,
   "id": "2a4a861f",
   "metadata": {},
   "outputs": [
    {
     "data": {
      "text/plain": [
       "1.0"
      ]
     },
     "execution_count": 167,
     "metadata": {},
     "output_type": "execute_result"
    }
   ],
   "source": [
    "#Avaliando o modelo\n",
    "clfTree.score(X,y)\n",
    "\n",
    "# \"1.0\" == 100% de acerto, mas será que o modelo realmente sempre acerta, ou será que ele só decorou os dados ?"
   ]
  },
  {
   "cell_type": "markdown",
   "id": "9a83ca81",
   "metadata": {},
   "source": [
    "## Utilizando Regressão Logistíca"
   ]
  },
  {
   "cell_type": "code",
   "execution_count": 168,
   "id": "e917bd6e",
   "metadata": {},
   "outputs": [],
   "source": [
    "from sklearn.linear_model import LogisticRegression"
   ]
  },
  {
   "cell_type": "code",
   "execution_count": 169,
   "id": "08ee77d1",
   "metadata": {},
   "outputs": [],
   "source": [
    "#Criando classificador e fazendo fit\n",
    "clfLog = LogisticRegression(random_state=0, max_iter=1000).fit(X, y)"
   ]
  },
  {
   "cell_type": "code",
   "execution_count": 170,
   "id": "95026d19",
   "metadata": {},
   "outputs": [
    {
     "data": {
      "text/plain": [
       "0.8075842696629213"
      ]
     },
     "execution_count": 170,
     "metadata": {},
     "output_type": "execute_result"
    }
   ],
   "source": [
    "#Avaliando o modelo\n",
    "clfLog.score(X,y)"
   ]
  },
  {
   "cell_type": "markdown",
   "id": "3cb34205",
   "metadata": {},
   "source": [
    "## Avaliando modelos de classificação"
   ]
  },
  {
   "cell_type": "code",
   "execution_count": 171,
   "id": "c5c1482e",
   "metadata": {},
   "outputs": [],
   "source": [
    "#Importando e visualizando a base de teste\n",
    "test_base = pd.read_csv('titanic_test.csv')"
   ]
  },
  {
   "cell_type": "code",
   "execution_count": 172,
   "id": "2513e887",
   "metadata": {},
   "outputs": [],
   "source": [
    "#Fazendo os mesmos tartamentos da base de treino (TUDO oq foi feito na base de TREINO, precisa ser feito na base de TESTE)\n",
    "\n",
    "\n",
    "#Eliminando a coluna 'Cabin', pois ela apresenta muitos valores vazios\n",
    "test_base = test_base.drop('Cabin',axis=1) #axis representa o eixo, ou seja, axis=1 -> eliminar a coluna\n",
    "                                                        #   axis=0 -> eliminar uma linha\n",
    "    \n",
    "# Eliminando valores vazios\n",
    "test_base = test_base.dropna()\n",
    "\n",
    "# Faz sentido tbm tirar as colunas com valores que não são valores numericos\n",
    "# Nesse caso, os valores com dtype 'object'\n",
    "\n",
    "#Antes, mudar 'male' e 'female' na coluna 'Sex' para '0' e '1' (faz sentido, pois percebemos na analise que essa coluna tinha bastante impacto em relação a sobrevivencia da pessoa)\n",
    "test_base['Sex']= test_base['Sex'].str.lower()\n",
    "test_base['Sex'] = test_base['Sex'].map({'male': 0, 'female': 1})\n",
    "\n",
    "# Selecionando as colunas com o tipo 'object'\n",
    "colunas_eliminadas= test_base.dtypes[test_base.dtypes.values == 'object'].index\n",
    "\n",
    "#Eliminando colunas\n",
    "test_base = test_base.drop(colunas_eliminadas, axis=1)"
   ]
  },
  {
   "cell_type": "code",
   "execution_count": 173,
   "id": "e16ad35e",
   "metadata": {},
   "outputs": [],
   "source": [
    "#Definindo o X e Y para o TESTE\n",
    "\n",
    "# X serão as variáveis utilizadas para fazer a previsão\n",
    "X_test = test_base.drop('Survived', axis=1)\n",
    "\n",
    "#Y será a coluna \"Survived\", pois é o valor que queremos prever\n",
    "y_test = test_base.Survived"
   ]
  },
  {
   "cell_type": "code",
   "execution_count": 174,
   "id": "c6e26b4e",
   "metadata": {},
   "outputs": [],
   "source": [
    "#Fazendo a predição com KNN\n",
    "pred_KNN = neigh.predict(X_test)"
   ]
  },
  {
   "cell_type": "code",
   "execution_count": 175,
   "id": "8d5a4cee",
   "metadata": {},
   "outputs": [],
   "source": [
    "#Fazendo a predição com a Árvore de Decisão\n",
    "pred_Tree = clfTree.predict(X_test)"
   ]
  },
  {
   "cell_type": "code",
   "execution_count": 176,
   "id": "49a305f6",
   "metadata": {},
   "outputs": [],
   "source": [
    "#Fazendo a predição com Regressão Logística\n",
    "pred_Log = clfLog.predict(X_test)"
   ]
  },
  {
   "cell_type": "markdown",
   "id": "224774ac",
   "metadata": {},
   "source": [
    "## Agora vamos entrar nos Parâmetros de Avaliação do Modelo"
   ]
  },
  {
   "attachments": {
    "image-2.png": {
     "image/png": "[encoded data removed]"
    }
   },
   "cell_type": "markdown",
   "id": "f780d677",
   "metadata": {},
   "source": [
    "### Matriz de Confusão\n",
    "\n",
    "   ***Matriz que vai correlacionar os valores REAIS com os valores do MODELO***\n",
    "   \n",
    "   ![image-2.png](attachment:image-2.png)"
   ]
  },
  {
   "cell_type": "code",
   "execution_count": 178,
   "id": "029956d1",
   "metadata": {},
   "outputs": [],
   "source": [
    "#Importando matriz de confusão\n",
    "from sklearn.metrics import confusion_matrix"
   ]
  },
  {
   "cell_type": "code",
   "execution_count": 179,
   "id": "2f47b3b9",
   "metadata": {},
   "outputs": [
    {
     "data": {
      "text/plain": [
       "array([[ 68, 136],\n",
       "       [ 35,  92]], dtype=int64)"
      ]
     },
     "execution_count": 179,
     "metadata": {},
     "output_type": "execute_result"
    }
   ],
   "source": [
    "#Verificando a matriz para o KNN\n",
    "confusion_matrix(y_test, pred_KNN)"
   ]
  },
  {
   "cell_type": "code",
   "execution_count": 180,
   "id": "43fd2dbc",
   "metadata": {},
   "outputs": [
    {
     "data": {
      "text/plain": [
       "array([[174,  30],\n",
       "       [ 25, 102]], dtype=int64)"
      ]
     },
     "execution_count": 180,
     "metadata": {},
     "output_type": "execute_result"
    }
   ],
   "source": [
    "#Verificando a matriz para a Árvore\n",
    "confusion_matrix(y_test, pred_Tree)"
   ]
  },
  {
   "cell_type": "code",
   "execution_count": 181,
   "id": "f31f72ee",
   "metadata": {},
   "outputs": [
    {
     "data": {
      "text/plain": [
       "array([[182,  22],\n",
       "       [  6, 121]], dtype=int64)"
      ]
     },
     "execution_count": 181,
     "metadata": {},
     "output_type": "execute_result"
    }
   ],
   "source": [
    "##Verificando a matriz para a Regressão Logística\n",
    "confusion_matrix(y_test, pred_Log)"
   ]
  },
  {
   "cell_type": "markdown",
   "id": "452bf1e8",
   "metadata": {},
   "source": [
    "## Acurácia"
   ]
  },
  {
   "cell_type": "code",
   "execution_count": 182,
   "id": "d11e8399",
   "metadata": {},
   "outputs": [],
   "source": [
    "from sklearn.metrics import accuracy_score"
   ]
  },
  {
   "cell_type": "code",
   "execution_count": 183,
   "id": "38c6acc0",
   "metadata": {},
   "outputs": [
    {
     "data": {
      "text/plain": [
       "0.48338368580060426"
      ]
     },
     "execution_count": 183,
     "metadata": {},
     "output_type": "execute_result"
    }
   ],
   "source": [
    "#Verificando a acuracia para o KNN\n",
    "accuracy_score(y_test, pred_KNN)"
   ]
  },
  {
   "cell_type": "code",
   "execution_count": 184,
   "id": "c57fdcb2",
   "metadata": {},
   "outputs": [
    {
     "data": {
      "text/plain": [
       "0.8338368580060423"
      ]
     },
     "execution_count": 184,
     "metadata": {},
     "output_type": "execute_result"
    }
   ],
   "source": [
    "#Verificando a acuracia para a Árvore\n",
    "accuracy_score(y_test, pred_Tree)"
   ]
  },
  {
   "cell_type": "code",
   "execution_count": 185,
   "id": "e574bff8",
   "metadata": {},
   "outputs": [
    {
     "data": {
      "text/plain": [
       "0.9154078549848943"
      ]
     },
     "execution_count": 185,
     "metadata": {},
     "output_type": "execute_result"
    }
   ],
   "source": [
    "#Verificando a acuracia para a Regressão Logística\n",
    "accuracy_score(y_test, pred_Log)"
   ]
  },
  {
   "cell_type": "markdown",
   "id": "4da6cd9d",
   "metadata": {},
   "source": [
    "## Precisão\n",
    "\n",
    "***Relação entre os Falsos Positivos e os Verdadeiros Positivos***"
   ]
  },
  {
   "cell_type": "code",
   "execution_count": 186,
   "id": "366c928d",
   "metadata": {},
   "outputs": [],
   "source": [
    "from sklearn.metrics import precision_score"
   ]
  },
  {
   "cell_type": "code",
   "execution_count": 187,
   "id": "271889fe",
   "metadata": {},
   "outputs": [
    {
     "data": {
      "text/plain": [
       "0.40350877192982454"
      ]
     },
     "execution_count": 187,
     "metadata": {},
     "output_type": "execute_result"
    }
   ],
   "source": [
    "#Verificando a precisao para o KNN\n",
    "precision_score(y_test, pred_KNN)"
   ]
  },
  {
   "cell_type": "code",
   "execution_count": 188,
   "id": "f5fc5a46",
   "metadata": {},
   "outputs": [
    {
     "data": {
      "text/plain": [
       "0.7727272727272727"
      ]
     },
     "execution_count": 188,
     "metadata": {},
     "output_type": "execute_result"
    }
   ],
   "source": [
    "#Verificando a precisao para a Árvore\n",
    "precision_score(y_test, pred_Tree)"
   ]
  },
  {
   "cell_type": "code",
   "execution_count": 189,
   "id": "4ab6cc30",
   "metadata": {},
   "outputs": [
    {
     "data": {
      "text/plain": [
       "0.8461538461538461"
      ]
     },
     "execution_count": 189,
     "metadata": {},
     "output_type": "execute_result"
    }
   ],
   "source": [
    "#Verificando a precisao para a Regressão Logística\n",
    "precision_score(y_test, pred_Log)"
   ]
  },
  {
   "cell_type": "markdown",
   "id": "246555db",
   "metadata": {},
   "source": [
    "## Recall\n",
    "\n",
    "***Relação entre Falsos Negativos e Verdadeiros Positivos***"
   ]
  },
  {
   "cell_type": "code",
   "execution_count": 191,
   "id": "35489bbe",
   "metadata": {},
   "outputs": [],
   "source": [
    "from sklearn.metrics import recall_score"
   ]
  },
  {
   "cell_type": "code",
   "execution_count": 192,
   "id": "1556e3ed",
   "metadata": {},
   "outputs": [
    {
     "data": {
      "text/plain": [
       "0.7244094488188977"
      ]
     },
     "execution_count": 192,
     "metadata": {},
     "output_type": "execute_result"
    }
   ],
   "source": [
    "#Verificando o Recall para o KNN\n",
    "recall_score(y_test, pred_KNN)"
   ]
  },
  {
   "cell_type": "code",
   "execution_count": 193,
   "id": "35048163",
   "metadata": {},
   "outputs": [
    {
     "data": {
      "text/plain": [
       "0.8031496062992126"
      ]
     },
     "execution_count": 193,
     "metadata": {},
     "output_type": "execute_result"
    }
   ],
   "source": [
    "#Verificando o recall para a Árvore\n",
    "recall_score(y_test, pred_Tree)"
   ]
  },
  {
   "cell_type": "code",
   "execution_count": 194,
   "id": "25c5294a",
   "metadata": {},
   "outputs": [
    {
     "data": {
      "text/plain": [
       "0.952755905511811"
      ]
     },
     "execution_count": 194,
     "metadata": {},
     "output_type": "execute_result"
    }
   ],
   "source": [
    "#Verificando o recall para a Regressão Logística\n",
    "recall_score(y_test, pred_Log)"
   ]
  },
  {
   "cell_type": "code",
   "execution_count": null,
   "id": "b9a4cc4d",
   "metadata": {},
   "outputs": [],
   "source": []
  }
 ],
 "metadata": {
  "kernelspec": {
   "display_name": "Python 3 (ipykernel)",
   "language": "python",
   "name": "python3"
  },
  "language_info": {
   "codemirror_mode": {
    "name": "ipython",
    "version": 3
   },
   "file_extension": ".py",
   "mimetype": "text/x-python",
   "name": "python",
   "nbconvert_exporter": "python",
   "pygments_lexer": "ipython3",
   "version": "3.11.5"
  }
 },
 "nbformat": 4,
 "nbformat_minor": 5
}
